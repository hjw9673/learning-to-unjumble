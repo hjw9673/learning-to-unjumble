{
  "nbformat": 4,
  "nbformat_minor": 0,
  "metadata": {
    "colab": {
      "name": "wnli",
      "provenance": []
    },
    "kernelspec": {
      "name": "python3",
      "display_name": "Python 3"
    },
    "accelerator": "TPU"
  },
  "cells": [
    {
      "cell_type": "code",
      "metadata": {
        "id": "xGfqtHThfPiE",
        "colab_type": "code",
        "outputId": "afd33032-d3a2-48bd-b0ec-c97dd9de1687",
        "colab": {
          "base_uri": "https://localhost:8080/",
          "height": 655
        }
      },
      "source": [
        "!pip install transformers==2.8.0"
      ],
      "execution_count": 1,
      "outputs": [
        {
          "output_type": "stream",
          "text": [
            "Collecting transformers==2.8.0\n",
            "\u001b[?25l  Downloading https://files.pythonhosted.org/packages/a3/78/92cedda05552398352ed9784908b834ee32a0bd071a9b32de287327370b7/transformers-2.8.0-py3-none-any.whl (563kB)\n",
            "\r\u001b[K     |▋                               | 10kB 19.5MB/s eta 0:00:01\r\u001b[K     |█▏                              | 20kB 2.2MB/s eta 0:00:01\r\u001b[K     |█▊                              | 30kB 3.2MB/s eta 0:00:01\r\u001b[K     |██▎                             | 40kB 4.2MB/s eta 0:00:01\r\u001b[K     |███                             | 51kB 2.6MB/s eta 0:00:01\r\u001b[K     |███▌                            | 61kB 3.1MB/s eta 0:00:01\r\u001b[K     |████                            | 71kB 3.6MB/s eta 0:00:01\r\u001b[K     |████▋                           | 81kB 3.9MB/s eta 0:00:01\r\u001b[K     |█████▎                          | 92kB 3.1MB/s eta 0:00:01\r\u001b[K     |█████▉                          | 102kB 3.5MB/s eta 0:00:01\r\u001b[K     |██████▍                         | 112kB 3.5MB/s eta 0:00:01\r\u001b[K     |███████                         | 122kB 3.5MB/s eta 0:00:01\r\u001b[K     |███████▋                        | 133kB 3.5MB/s eta 0:00:01\r\u001b[K     |████████▏                       | 143kB 3.5MB/s eta 0:00:01\r\u001b[K     |████████▊                       | 153kB 3.5MB/s eta 0:00:01\r\u001b[K     |█████████▎                      | 163kB 3.5MB/s eta 0:00:01\r\u001b[K     |█████████▉                      | 174kB 3.5MB/s eta 0:00:01\r\u001b[K     |██████████▌                     | 184kB 3.5MB/s eta 0:00:01\r\u001b[K     |███████████                     | 194kB 3.5MB/s eta 0:00:01\r\u001b[K     |███████████▋                    | 204kB 3.5MB/s eta 0:00:01\r\u001b[K     |████████████▏                   | 215kB 3.5MB/s eta 0:00:01\r\u001b[K     |████████████▉                   | 225kB 3.5MB/s eta 0:00:01\r\u001b[K     |█████████████▍                  | 235kB 3.5MB/s eta 0:00:01\r\u001b[K     |██████████████                  | 245kB 3.5MB/s eta 0:00:01\r\u001b[K     |██████████████▌                 | 256kB 3.5MB/s eta 0:00:01\r\u001b[K     |███████████████▏                | 266kB 3.5MB/s eta 0:00:01\r\u001b[K     |███████████████▊                | 276kB 3.5MB/s eta 0:00:01\r\u001b[K     |████████████████▎               | 286kB 3.5MB/s eta 0:00:01\r\u001b[K     |████████████████▉               | 296kB 3.5MB/s eta 0:00:01\r\u001b[K     |█████████████████▍              | 307kB 3.5MB/s eta 0:00:01\r\u001b[K     |██████████████████              | 317kB 3.5MB/s eta 0:00:01\r\u001b[K     |██████████████████▋             | 327kB 3.5MB/s eta 0:00:01\r\u001b[K     |███████████████████▏            | 337kB 3.5MB/s eta 0:00:01\r\u001b[K     |███████████████████▊            | 348kB 3.5MB/s eta 0:00:01\r\u001b[K     |████████████████████▍           | 358kB 3.5MB/s eta 0:00:01\r\u001b[K     |█████████████████████           | 368kB 3.5MB/s eta 0:00:01\r\u001b[K     |█████████████████████▌          | 378kB 3.5MB/s eta 0:00:01\r\u001b[K     |██████████████████████          | 389kB 3.5MB/s eta 0:00:01\r\u001b[K     |██████████████████████▊         | 399kB 3.5MB/s eta 0:00:01\r\u001b[K     |███████████████████████▎        | 409kB 3.5MB/s eta 0:00:01\r\u001b[K     |███████████████████████▉        | 419kB 3.5MB/s eta 0:00:01\r\u001b[K     |████████████████████████▍       | 430kB 3.5MB/s eta 0:00:01\r\u001b[K     |█████████████████████████       | 440kB 3.5MB/s eta 0:00:01\r\u001b[K     |█████████████████████████▋      | 450kB 3.5MB/s eta 0:00:01\r\u001b[K     |██████████████████████████▏     | 460kB 3.5MB/s eta 0:00:01\r\u001b[K     |██████████████████████████▊     | 471kB 3.5MB/s eta 0:00:01\r\u001b[K     |███████████████████████████▎    | 481kB 3.5MB/s eta 0:00:01\r\u001b[K     |████████████████████████████    | 491kB 3.5MB/s eta 0:00:01\r\u001b[K     |████████████████████████████▌   | 501kB 3.5MB/s eta 0:00:01\r\u001b[K     |█████████████████████████████   | 512kB 3.5MB/s eta 0:00:01\r\u001b[K     |█████████████████████████████▋  | 522kB 3.5MB/s eta 0:00:01\r\u001b[K     |██████████████████████████████▎ | 532kB 3.5MB/s eta 0:00:01\r\u001b[K     |██████████████████████████████▉ | 542kB 3.5MB/s eta 0:00:01\r\u001b[K     |███████████████████████████████▍| 552kB 3.5MB/s eta 0:00:01\r\u001b[K     |████████████████████████████████| 563kB 3.5MB/s eta 0:00:01\r\u001b[K     |████████████████████████████████| 573kB 3.5MB/s \n",
            "\u001b[?25hRequirement already satisfied: dataclasses; python_version < \"3.7\" in /usr/local/lib/python3.6/dist-packages (from transformers==2.8.0) (0.7)\n",
            "Requirement already satisfied: filelock in /usr/local/lib/python3.6/dist-packages (from transformers==2.8.0) (3.0.12)\n",
            "Collecting sentencepiece\n",
            "\u001b[?25l  Downloading https://files.pythonhosted.org/packages/3b/88/49e772d686088e1278766ad68a463513642a2a877487decbd691dec02955/sentencepiece-0.1.90-cp36-cp36m-manylinux1_x86_64.whl (1.1MB)\n",
            "\u001b[K     |████████████████████████████████| 1.1MB 49.7MB/s \n",
            "\u001b[?25hCollecting sacremoses\n",
            "\u001b[?25l  Downloading https://files.pythonhosted.org/packages/7d/34/09d19aff26edcc8eb2a01bed8e98f13a1537005d31e95233fd48216eed10/sacremoses-0.0.43.tar.gz (883kB)\n",
            "\u001b[K     |████████████████████████████████| 890kB 47.1MB/s \n",
            "\u001b[?25hRequirement already satisfied: boto3 in /usr/local/lib/python3.6/dist-packages (from transformers==2.8.0) (1.13.4)\n",
            "Requirement already satisfied: regex!=2019.12.17 in /usr/local/lib/python3.6/dist-packages (from transformers==2.8.0) (2019.12.20)\n",
            "Requirement already satisfied: numpy in /usr/local/lib/python3.6/dist-packages (from transformers==2.8.0) (1.18.4)\n",
            "Requirement already satisfied: requests in /usr/local/lib/python3.6/dist-packages (from transformers==2.8.0) (2.23.0)\n",
            "Collecting tokenizers==0.5.2\n",
            "\u001b[?25l  Downloading https://files.pythonhosted.org/packages/d1/3f/73c881ea4723e43c1e9acf317cf407fab3a278daab3a69c98dcac511c04f/tokenizers-0.5.2-cp36-cp36m-manylinux1_x86_64.whl (3.7MB)\n",
            "\u001b[K     |████████████████████████████████| 3.7MB 34.9MB/s \n",
            "\u001b[?25hRequirement already satisfied: tqdm>=4.27 in /usr/local/lib/python3.6/dist-packages (from transformers==2.8.0) (4.41.1)\n",
            "Requirement already satisfied: six in /usr/local/lib/python3.6/dist-packages (from sacremoses->transformers==2.8.0) (1.12.0)\n",
            "Requirement already satisfied: click in /usr/local/lib/python3.6/dist-packages (from sacremoses->transformers==2.8.0) (7.1.2)\n",
            "Requirement already satisfied: joblib in /usr/local/lib/python3.6/dist-packages (from sacremoses->transformers==2.8.0) (0.14.1)\n",
            "Requirement already satisfied: s3transfer<0.4.0,>=0.3.0 in /usr/local/lib/python3.6/dist-packages (from boto3->transformers==2.8.0) (0.3.3)\n",
            "Requirement already satisfied: jmespath<1.0.0,>=0.7.1 in /usr/local/lib/python3.6/dist-packages (from boto3->transformers==2.8.0) (0.9.5)\n",
            "Requirement already satisfied: botocore<1.17.0,>=1.16.4 in /usr/local/lib/python3.6/dist-packages (from boto3->transformers==2.8.0) (1.16.4)\n",
            "Requirement already satisfied: urllib3!=1.25.0,!=1.25.1,<1.26,>=1.21.1 in /usr/local/lib/python3.6/dist-packages (from requests->transformers==2.8.0) (1.24.3)\n",
            "Requirement already satisfied: idna<3,>=2.5 in /usr/local/lib/python3.6/dist-packages (from requests->transformers==2.8.0) (2.9)\n",
            "Requirement already satisfied: certifi>=2017.4.17 in /usr/local/lib/python3.6/dist-packages (from requests->transformers==2.8.0) (2020.4.5.1)\n",
            "Requirement already satisfied: chardet<4,>=3.0.2 in /usr/local/lib/python3.6/dist-packages (from requests->transformers==2.8.0) (3.0.4)\n",
            "Requirement already satisfied: python-dateutil<3.0.0,>=2.1 in /usr/local/lib/python3.6/dist-packages (from botocore<1.17.0,>=1.16.4->boto3->transformers==2.8.0) (2.8.1)\n",
            "Requirement already satisfied: docutils<0.16,>=0.10 in /usr/local/lib/python3.6/dist-packages (from botocore<1.17.0,>=1.16.4->boto3->transformers==2.8.0) (0.15.2)\n",
            "Building wheels for collected packages: sacremoses\n",
            "  Building wheel for sacremoses (setup.py) ... \u001b[?25l\u001b[?25hdone\n",
            "  Created wheel for sacremoses: filename=sacremoses-0.0.43-cp36-none-any.whl size=893260 sha256=3c2b1b9858b1064b29dc0b8d4209523eddc5977db173bfff78802c8027eab860\n",
            "  Stored in directory: /root/.cache/pip/wheels/29/3c/fd/7ce5c3f0666dab31a50123635e6fb5e19ceb42ce38d4e58f45\n",
            "Successfully built sacremoses\n",
            "Installing collected packages: sentencepiece, sacremoses, tokenizers, transformers\n",
            "Successfully installed sacremoses-0.0.43 sentencepiece-0.1.90 tokenizers-0.5.2 transformers-2.8.0\n"
          ],
          "name": "stdout"
        }
      ]
    },
    {
      "cell_type": "code",
      "metadata": {
        "id": "jZLCO1Jvfr4O",
        "colab_type": "code",
        "colab": {
          "base_uri": "https://localhost:8080/",
          "height": 34
        },
        "outputId": "260f1ded-cb02-4adf-db5e-ab721bb53dde"
      },
      "source": [
        "cd ~/../content"
      ],
      "execution_count": 2,
      "outputs": [
        {
          "output_type": "stream",
          "text": [
            "/content\n"
          ],
          "name": "stdout"
        }
      ]
    },
    {
      "cell_type": "code",
      "metadata": {
        "id": "2fDvof2Nfy-5",
        "colab_type": "code",
        "colab": {}
      },
      "source": [
        "import os"
      ],
      "execution_count": 0,
      "outputs": []
    },
    {
      "cell_type": "code",
      "metadata": {
        "id": "Eq9YdbeZf0Hw",
        "colab_type": "code",
        "outputId": "73b46809-a670-40a6-c580-9cba02fa4b40",
        "colab": {
          "base_uri": "https://localhost:8080/",
          "height": 34
        }
      },
      "source": [
        "WORK_DIR = os.path.join('drive', 'My Drive', 'Colab Notebooks', 'NLU')\n",
        "os.path.exists(WORK_DIR)"
      ],
      "execution_count": 4,
      "outputs": [
        {
          "output_type": "execute_result",
          "data": {
            "text/plain": [
              "True"
            ]
          },
          "metadata": {
            "tags": []
          },
          "execution_count": 4
        }
      ]
    },
    {
      "cell_type": "code",
      "metadata": {
        "id": "wVh5Qs1x0ENz",
        "colab_type": "code",
        "colab": {
          "base_uri": "https://localhost:8080/",
          "height": 34
        },
        "outputId": "497db9a9-2503-4af2-c75a-9eea7b4d8c37"
      },
      "source": [
        "cd $WORK_DIR"
      ],
      "execution_count": 5,
      "outputs": [
        {
          "output_type": "stream",
          "text": [
            "/content/drive/My Drive/Colab Notebooks/NLU\n"
          ],
          "name": "stdout"
        }
      ]
    },
    {
      "cell_type": "code",
      "metadata": {
        "id": "jPWXQsot0ESU",
        "colab_type": "code",
        "colab": {}
      },
      "source": [
        "GLUE_DIR=\"data/glue\""
      ],
      "execution_count": 0,
      "outputs": []
    },
    {
      "cell_type": "code",
      "metadata": {
        "id": "Ftm25a7O0G0J",
        "colab_type": "code",
        "colab": {
          "base_uri": "https://localhost:8080/",
          "height": 34
        },
        "outputId": "c7ca7820-30ae-46ce-b20d-f8ed68f557ac"
      },
      "source": [
        "!echo $GLUE_DIR"
      ],
      "execution_count": 7,
      "outputs": [
        {
          "output_type": "stream",
          "text": [
            "data/glue\n"
          ],
          "name": "stdout"
        }
      ]
    },
    {
      "cell_type": "code",
      "metadata": {
        "id": "EbNIkD8P0HDf",
        "colab_type": "code",
        "colab": {}
      },
      "source": [
        "TASK_NAME=\"WNLI\""
      ],
      "execution_count": 0,
      "outputs": []
    },
    {
      "cell_type": "code",
      "metadata": {
        "id": "DtZqPnCb0HF7",
        "colab_type": "code",
        "colab": {
          "base_uri": "https://localhost:8080/",
          "height": 34
        },
        "outputId": "295eb747-fe82-48d4-94af-93159a89d20d"
      },
      "source": [
        "!echo $TASK_NAME"
      ],
      "execution_count": 9,
      "outputs": [
        {
          "output_type": "stream",
          "text": [
            "WNLI\n"
          ],
          "name": "stdout"
        }
      ]
    },
    {
      "cell_type": "code",
      "metadata": {
        "id": "rzPjt-Qhf3To",
        "colab_type": "code",
        "outputId": "ec05219c-c41e-451b-b9b9-ddf0a4e8317e",
        "colab": {
          "base_uri": "https://localhost:8080/",
          "height": 185
        }
      },
      "source": [
        "!python download_glue_data.py --help"
      ],
      "execution_count": 10,
      "outputs": [
        {
          "output_type": "stream",
          "text": [
            "usage: download_glue_data.py [-h] [--data_dir DATA_DIR] [--tasks TASKS]\n",
            "                             [--path_to_mrpc PATH_TO_MRPC]\n",
            "\n",
            "optional arguments:\n",
            "  -h, --help            show this help message and exit\n",
            "  --data_dir DATA_DIR   directory to save data to\n",
            "  --tasks TASKS         tasks to download data for as a comma separated string\n",
            "  --path_to_mrpc PATH_TO_MRPC\n",
            "                        path to directory containing extracted MRPC data,\n",
            "                        msr_paraphrase_train.txt and msr_paraphrase_text.txt\n"
          ],
          "name": "stdout"
        }
      ]
    },
    {
      "cell_type": "code",
      "metadata": {
        "id": "ZiGvhtT_gAdr",
        "colab_type": "code",
        "outputId": "23050884-e450-48f7-f2f3-7d0e90aedf52",
        "colab": {
          "base_uri": "https://localhost:8080/",
          "height": 50
        }
      },
      "source": [
        "!python download_glue_data.py --data_dir $GLUE_DIR --tasks $TASK_NAME"
      ],
      "execution_count": 11,
      "outputs": [
        {
          "output_type": "stream",
          "text": [
            "Downloading and extracting WNLI...\n",
            "\tCompleted!\n"
          ],
          "name": "stdout"
        }
      ]
    },
    {
      "cell_type": "code",
      "metadata": {
        "id": "oQaZ3_-SgB6r",
        "colab_type": "code",
        "colab": {
          "base_uri": "https://localhost:8080/",
          "height": 34
        },
        "outputId": "894f5a6c-f390-46b9-b021-9cf1453bb6c1"
      },
      "source": [
        "MODEL_DIR = os.path.join('model', 'roberta_token_discrimination_lr_e4')\n",
        "os.path.exists(MODEL_DIR)"
      ],
      "execution_count": 12,
      "outputs": [
        {
          "output_type": "execute_result",
          "data": {
            "text/plain": [
              "True"
            ]
          },
          "metadata": {
            "tags": []
          },
          "execution_count": 12
        }
      ]
    },
    {
      "cell_type": "code",
      "metadata": {
        "id": "swzTjNDJgDVp",
        "colab_type": "code",
        "outputId": "4b63179c-9bad-4f82-e89e-9c50fe405962",
        "colab": {
          "base_uri": "https://localhost:8080/",
          "height": 50
        }
      },
      "source": [
        "!nvidia-smi"
      ],
      "execution_count": 13,
      "outputs": [
        {
          "output_type": "stream",
          "text": [
            "NVIDIA-SMI has failed because it couldn't communicate with the NVIDIA driver. Make sure that the latest NVIDIA driver is installed and running.\n",
            "\n"
          ],
          "name": "stdout"
        }
      ]
    },
    {
      "cell_type": "code",
      "metadata": {
        "id": "Cw5WkGv6NfP3",
        "colab_type": "code",
        "colab": {
          "base_uri": "https://localhost:8080/",
          "height": 1000
        },
        "outputId": "f0da2b91-1a26-4def-82e5-c6cd02e6836d"
      },
      "source": [
        "!python run_glue.py --help"
      ],
      "execution_count": 14,
      "outputs": [
        {
          "output_type": "stream",
          "text": [
            "2020-05-15 02:23:14.522896: I tensorflow/stream_executor/platform/default/dso_loader.cc:44] Successfully opened dynamic library libcudart.so.10.1\n",
            "usage: run_glue.py [-h] --data_dir DATA_DIR --model_type MODEL_TYPE\n",
            "                   --model_name_or_path MODEL_NAME_OR_PATH --task_name\n",
            "                   TASK_NAME --output_dir OUTPUT_DIR\n",
            "                   [--config_name CONFIG_NAME]\n",
            "                   [--tokenizer_name TOKENIZER_NAME] [--cache_dir CACHE_DIR]\n",
            "                   [--max_seq_length MAX_SEQ_LENGTH] [--do_train] [--do_eval]\n",
            "                   [--evaluate_during_training] [--do_lower_case]\n",
            "                   [--per_gpu_train_batch_size PER_GPU_TRAIN_BATCH_SIZE]\n",
            "                   [--per_gpu_eval_batch_size PER_GPU_EVAL_BATCH_SIZE]\n",
            "                   [--gradient_accumulation_steps GRADIENT_ACCUMULATION_STEPS]\n",
            "                   [--learning_rate LEARNING_RATE]\n",
            "                   [--weight_decay WEIGHT_DECAY] [--adam_epsilon ADAM_EPSILON]\n",
            "                   [--max_grad_norm MAX_GRAD_NORM]\n",
            "                   [--num_train_epochs NUM_TRAIN_EPOCHS]\n",
            "                   [--max_steps MAX_STEPS] [--warmup_steps WARMUP_STEPS]\n",
            "                   [--logging_steps LOGGING_STEPS] [--save_steps SAVE_STEPS]\n",
            "                   [--eval_all_checkpoints] [--no_cuda]\n",
            "                   [--overwrite_output_dir] [--overwrite_cache] [--seed SEED]\n",
            "                   [--fp16] [--fp16_opt_level FP16_OPT_LEVEL]\n",
            "                   [--local_rank LOCAL_RANK] [--server_ip SERVER_IP]\n",
            "                   [--server_port SERVER_PORT]\n",
            "\n",
            "optional arguments:\n",
            "  -h, --help            show this help message and exit\n",
            "  --data_dir DATA_DIR   The input data dir. Should contain the .tsv files (or\n",
            "                        other data files) for the task.\n",
            "  --model_type MODEL_TYPE\n",
            "                        Model type selected in the list: distilbert, albert,\n",
            "                        camembert, xlm-roberta, bart, roberta, bert, xlnet,\n",
            "                        flaubert, xlm\n",
            "  --model_name_or_path MODEL_NAME_OR_PATH\n",
            "                        Path to pre-trained model or shortcut name selected in\n",
            "                        the list: distilbert-base-uncased, distilbert-base-\n",
            "                        uncased-distilled-squad, distilbert-base-cased,\n",
            "                        distilbert-base-cased-distilled-squad, distilbert-\n",
            "                        base-german-cased, distilbert-base-multilingual-cased,\n",
            "                        distilbert-base-uncased-finetuned-sst-2-english,\n",
            "                        albert-base-v1, albert-large-v1, albert-xlarge-v1,\n",
            "                        albert-xxlarge-v1, albert-base-v2, albert-large-v2,\n",
            "                        albert-xlarge-v2, albert-xxlarge-v2, camembert-base,\n",
            "                        umberto-commoncrawl-cased-v1, umberto-wikipedia-\n",
            "                        uncased-v1, xlm-roberta-base, xlm-roberta-large, xlm-\n",
            "                        roberta-large-finetuned-conll02-dutch, xlm-roberta-\n",
            "                        large-finetuned-conll02-spanish, xlm-roberta-large-\n",
            "                        finetuned-conll03-english, xlm-roberta-large-\n",
            "                        finetuned-conll03-german, bart-large, bart-large-mnli,\n",
            "                        bart-large-cnn, bart-large-xsum, roberta-base,\n",
            "                        roberta-large, roberta-large-mnli, distilroberta-base,\n",
            "                        roberta-base-openai-detector, roberta-large-openai-\n",
            "                        detector, bert-base-uncased, bert-large-uncased, bert-\n",
            "                        base-cased, bert-large-cased, bert-base-multilingual-\n",
            "                        uncased, bert-base-multilingual-cased, bert-base-\n",
            "                        chinese, bert-base-german-cased, bert-large-uncased-\n",
            "                        whole-word-masking, bert-large-cased-whole-word-\n",
            "                        masking, bert-large-uncased-whole-word-masking-\n",
            "                        finetuned-squad, bert-large-cased-whole-word-masking-\n",
            "                        finetuned-squad, bert-base-cased-finetuned-mrpc, bert-\n",
            "                        base-german-dbmdz-cased, bert-base-german-dbmdz-\n",
            "                        uncased, bert-base-japanese, bert-base-japanese-whole-\n",
            "                        word-masking, bert-base-japanese-char, bert-base-\n",
            "                        japanese-char-whole-word-masking, bert-base-finnish-\n",
            "                        cased-v1, bert-base-finnish-uncased-v1, bert-base-\n",
            "                        dutch-cased, xlnet-base-cased, xlnet-large-cased,\n",
            "                        flaubert-small-cased, flaubert-base-uncased, flaubert-\n",
            "                        base-cased, flaubert-large-cased, xlm-mlm-en-2048,\n",
            "                        xlm-mlm-ende-1024, xlm-mlm-enfr-1024, xlm-mlm-\n",
            "                        enro-1024, xlm-mlm-tlm-xnli15-1024, xlm-mlm-\n",
            "                        xnli15-1024, xlm-clm-enfr-1024, xlm-clm-ende-1024,\n",
            "                        xlm-mlm-17-1280, xlm-mlm-100-1280\n",
            "  --task_name TASK_NAME\n",
            "                        The name of the task to train selected in the list:\n",
            "                        cola, mnli, mnli-mm, mrpc, sst-2, sts-b, qqp, qnli,\n",
            "                        rte, wnli\n",
            "  --output_dir OUTPUT_DIR\n",
            "                        The output directory where the model predictions and\n",
            "                        checkpoints will be written.\n",
            "  --config_name CONFIG_NAME\n",
            "                        Pretrained config name or path if not the same as\n",
            "                        model_name\n",
            "  --tokenizer_name TOKENIZER_NAME\n",
            "                        Pretrained tokenizer name or path if not the same as\n",
            "                        model_name\n",
            "  --cache_dir CACHE_DIR\n",
            "                        Where do you want to store the pre-trained models\n",
            "                        downloaded from s3\n",
            "  --max_seq_length MAX_SEQ_LENGTH\n",
            "                        The maximum total input sequence length after\n",
            "                        tokenization. Sequences longer than this will be\n",
            "                        truncated, sequences shorter will be padded.\n",
            "  --do_train            Whether to run training.\n",
            "  --do_eval             Whether to run eval on the dev set.\n",
            "  --evaluate_during_training\n",
            "                        Run evaluation during training at each logging step.\n",
            "  --do_lower_case       Set this flag if you are using an uncased model.\n",
            "  --per_gpu_train_batch_size PER_GPU_TRAIN_BATCH_SIZE\n",
            "                        Batch size per GPU/CPU for training.\n",
            "  --per_gpu_eval_batch_size PER_GPU_EVAL_BATCH_SIZE\n",
            "                        Batch size per GPU/CPU for evaluation.\n",
            "  --gradient_accumulation_steps GRADIENT_ACCUMULATION_STEPS\n",
            "                        Number of updates steps to accumulate before\n",
            "                        performing a backward/update pass.\n",
            "  --learning_rate LEARNING_RATE\n",
            "                        The initial learning rate for Adam.\n",
            "  --weight_decay WEIGHT_DECAY\n",
            "                        Weight decay if we apply some.\n",
            "  --adam_epsilon ADAM_EPSILON\n",
            "                        Epsilon for Adam optimizer.\n",
            "  --max_grad_norm MAX_GRAD_NORM\n",
            "                        Max gradient norm.\n",
            "  --num_train_epochs NUM_TRAIN_EPOCHS\n",
            "                        Total number of training epochs to perform.\n",
            "  --max_steps MAX_STEPS\n",
            "                        If > 0: set total number of training steps to perform.\n",
            "                        Override num_train_epochs.\n",
            "  --warmup_steps WARMUP_STEPS\n",
            "                        Linear warmup over warmup_steps.\n",
            "  --logging_steps LOGGING_STEPS\n",
            "                        Log every X updates steps.\n",
            "  --save_steps SAVE_STEPS\n",
            "                        Save checkpoint every X updates steps.\n",
            "  --eval_all_checkpoints\n",
            "                        Evaluate all checkpoints starting with the same prefix\n",
            "                        as model_name ending and ending with step number\n",
            "  --no_cuda             Avoid using CUDA when available\n",
            "  --overwrite_output_dir\n",
            "                        Overwrite the content of the output directory\n",
            "  --overwrite_cache     Overwrite the cached training and evaluation sets\n",
            "  --seed SEED           random seed for initialization\n",
            "  --fp16                Whether to use 16-bit (mixed) precision (through\n",
            "                        NVIDIA apex) instead of 32-bit\n",
            "  --fp16_opt_level FP16_OPT_LEVEL\n",
            "                        For fp16: Apex AMP optimization level selected in\n",
            "                        ['O0', 'O1', 'O2', and 'O3'].See details at\n",
            "                        https://nvidia.github.io/apex/amp.html\n",
            "  --local_rank LOCAL_RANK\n",
            "                        For distributed training: local_rank\n",
            "  --server_ip SERVER_IP\n",
            "                        For distant debugging.\n",
            "  --server_port SERVER_PORT\n",
            "                        For distant debugging.\n"
          ],
          "name": "stdout"
        }
      ]
    },
    {
      "cell_type": "code",
      "metadata": {
        "id": "990TFGa3gEOM",
        "colab_type": "code",
        "outputId": "6bc99085-02b3-410a-8dc4-e84561f58350",
        "colab": {
          "base_uri": "https://localhost:8080/",
          "height": 1000
        }
      },
      "source": [
        "!python run_glue.py \\\n",
        "    --model_type roberta \\\n",
        "    --model_name_or_path $MODEL_DIR \\\n",
        "    --task_name $TASK_NAME \\\n",
        "    --do_train \\\n",
        "    --do_eval \\\n",
        "    --data_dir $GLUE_DIR/$TASK_NAME \\\n",
        "    --max_seq_length 128 \\\n",
        "    --per_gpu_eval_batch_size=64   \\\n",
        "    --per_gpu_train_batch_size=64   \\\n",
        "    --learning_rate 2e-5 \\\n",
        "    --num_train_epochs 3 \\\n",
        "    --output_dir run \\\n",
        "    --overwrite_output_dir"
      ],
      "execution_count": 15,
      "outputs": [
        {
          "output_type": "stream",
          "text": [
            "2020-05-15 02:23:19.088212: I tensorflow/stream_executor/platform/default/dso_loader.cc:44] Successfully opened dynamic library libcudart.so.10.1\n",
            "05/15/2020 02:23:20 - WARNING - __main__ -   Process rank: -1, device: cpu, n_gpu: 0, distributed training: False, 16-bits training: False\n",
            "05/15/2020 02:23:21 - INFO - transformers.configuration_utils -   loading configuration file model/roberta_token_discrimination_lr_e4/config.json\n",
            "05/15/2020 02:23:21 - INFO - transformers.configuration_utils -   Model config RobertaConfig {\n",
            "  \"_num_labels\": 2,\n",
            "  \"architectures\": [\n",
            "    \"RobertaForTokenDiscrimination\"\n",
            "  ],\n",
            "  \"attention_probs_dropout_prob\": 0.1,\n",
            "  \"bad_words_ids\": null,\n",
            "  \"bos_token_id\": 0,\n",
            "  \"decoder_start_token_id\": null,\n",
            "  \"do_sample\": false,\n",
            "  \"early_stopping\": false,\n",
            "  \"eos_token_id\": 2,\n",
            "  \"finetuning_task\": \"wnli\",\n",
            "  \"hidden_act\": \"gelu\",\n",
            "  \"hidden_dropout_prob\": 0.1,\n",
            "  \"hidden_size\": 768,\n",
            "  \"id2label\": {\n",
            "    \"0\": \"LABEL_0\",\n",
            "    \"1\": \"LABEL_1\"\n",
            "  },\n",
            "  \"initializer_range\": 0.02,\n",
            "  \"intermediate_size\": 3072,\n",
            "  \"is_decoder\": false,\n",
            "  \"is_encoder_decoder\": false,\n",
            "  \"label2id\": {\n",
            "    \"LABEL_0\": 0,\n",
            "    \"LABEL_1\": 1\n",
            "  },\n",
            "  \"layer_norm_eps\": 1e-05,\n",
            "  \"length_penalty\": 1.0,\n",
            "  \"max_length\": 20,\n",
            "  \"max_position_embeddings\": 514,\n",
            "  \"min_length\": 0,\n",
            "  \"model_type\": \"roberta\",\n",
            "  \"no_repeat_ngram_size\": 0,\n",
            "  \"num_attention_heads\": 12,\n",
            "  \"num_beams\": 1,\n",
            "  \"num_hidden_layers\": 12,\n",
            "  \"num_return_sequences\": 1,\n",
            "  \"output_attentions\": false,\n",
            "  \"output_hidden_states\": false,\n",
            "  \"output_past\": true,\n",
            "  \"pad_token_id\": 1,\n",
            "  \"prefix\": null,\n",
            "  \"pruned_heads\": {},\n",
            "  \"repetition_penalty\": 1.0,\n",
            "  \"task_specific_params\": null,\n",
            "  \"temperature\": 1.0,\n",
            "  \"top_k\": 50,\n",
            "  \"top_p\": 1.0,\n",
            "  \"torchscript\": false,\n",
            "  \"type_vocab_size\": 1,\n",
            "  \"use_bfloat16\": false,\n",
            "  \"vocab_size\": 50265\n",
            "}\n",
            "\n",
            "05/15/2020 02:23:21 - INFO - transformers.configuration_utils -   loading configuration file model/roberta_token_discrimination_lr_e4/config.json\n",
            "05/15/2020 02:23:21 - INFO - transformers.configuration_utils -   Model config RobertaConfig {\n",
            "  \"_num_labels\": 2,\n",
            "  \"architectures\": [\n",
            "    \"RobertaForTokenDiscrimination\"\n",
            "  ],\n",
            "  \"attention_probs_dropout_prob\": 0.1,\n",
            "  \"bad_words_ids\": null,\n",
            "  \"bos_token_id\": 0,\n",
            "  \"decoder_start_token_id\": null,\n",
            "  \"do_sample\": false,\n",
            "  \"early_stopping\": false,\n",
            "  \"eos_token_id\": 2,\n",
            "  \"finetuning_task\": null,\n",
            "  \"hidden_act\": \"gelu\",\n",
            "  \"hidden_dropout_prob\": 0.1,\n",
            "  \"hidden_size\": 768,\n",
            "  \"id2label\": {\n",
            "    \"0\": \"LABEL_0\",\n",
            "    \"1\": \"LABEL_1\"\n",
            "  },\n",
            "  \"initializer_range\": 0.02,\n",
            "  \"intermediate_size\": 3072,\n",
            "  \"is_decoder\": false,\n",
            "  \"is_encoder_decoder\": false,\n",
            "  \"label2id\": {\n",
            "    \"LABEL_0\": 0,\n",
            "    \"LABEL_1\": 1\n",
            "  },\n",
            "  \"layer_norm_eps\": 1e-05,\n",
            "  \"length_penalty\": 1.0,\n",
            "  \"max_length\": 20,\n",
            "  \"max_position_embeddings\": 514,\n",
            "  \"min_length\": 0,\n",
            "  \"model_type\": \"roberta\",\n",
            "  \"no_repeat_ngram_size\": 0,\n",
            "  \"num_attention_heads\": 12,\n",
            "  \"num_beams\": 1,\n",
            "  \"num_hidden_layers\": 12,\n",
            "  \"num_return_sequences\": 1,\n",
            "  \"output_attentions\": false,\n",
            "  \"output_hidden_states\": false,\n",
            "  \"output_past\": true,\n",
            "  \"pad_token_id\": 1,\n",
            "  \"prefix\": null,\n",
            "  \"pruned_heads\": {},\n",
            "  \"repetition_penalty\": 1.0,\n",
            "  \"task_specific_params\": null,\n",
            "  \"temperature\": 1.0,\n",
            "  \"top_k\": 50,\n",
            "  \"top_p\": 1.0,\n",
            "  \"torchscript\": false,\n",
            "  \"type_vocab_size\": 1,\n",
            "  \"use_bfloat16\": false,\n",
            "  \"vocab_size\": 50265\n",
            "}\n",
            "\n",
            "05/15/2020 02:23:21 - INFO - transformers.tokenization_utils -   Model name 'model/roberta_token_discrimination_lr_e4' not found in model shortcut name list (roberta-base, roberta-large, roberta-large-mnli, distilroberta-base, roberta-base-openai-detector, roberta-large-openai-detector). Assuming 'model/roberta_token_discrimination_lr_e4' is a path, a model identifier, or url to a directory containing tokenizer files.\n",
            "05/15/2020 02:23:21 - INFO - transformers.tokenization_utils -   Didn't find file model/roberta_token_discrimination_lr_e4/added_tokens.json. We won't load it.\n",
            "05/15/2020 02:23:21 - INFO - transformers.tokenization_utils -   loading file model/roberta_token_discrimination_lr_e4/vocab.json\n",
            "05/15/2020 02:23:21 - INFO - transformers.tokenization_utils -   loading file model/roberta_token_discrimination_lr_e4/merges.txt\n",
            "05/15/2020 02:23:21 - INFO - transformers.tokenization_utils -   loading file None\n",
            "05/15/2020 02:23:21 - INFO - transformers.tokenization_utils -   loading file model/roberta_token_discrimination_lr_e4/special_tokens_map.json\n",
            "05/15/2020 02:23:21 - INFO - transformers.tokenization_utils -   loading file model/roberta_token_discrimination_lr_e4/tokenizer_config.json\n",
            "05/15/2020 02:23:24 - INFO - transformers.modeling_utils -   loading weights file model/roberta_token_discrimination_lr_e4/pytorch_model.bin\n",
            "05/15/2020 02:23:34 - INFO - transformers.modeling_utils -   Weights of RobertaForSequenceClassification not initialized from pretrained model: ['classifier.dense.weight', 'classifier.dense.bias', 'classifier.out_proj.weight', 'classifier.out_proj.bias']\n",
            "05/15/2020 02:23:34 - INFO - transformers.modeling_utils -   Weights from pretrained model not used in RobertaForSequenceClassification: ['discriminator_predictions.dense.weight', 'discriminator_predictions.dense.bias', 'discriminator_predictions.dense_prediction.weight', 'discriminator_predictions.dense_prediction.bias']\n",
            "05/15/2020 02:23:34 - INFO - __main__ -   Training/evaluation parameters Namespace(adam_epsilon=1e-08, cache_dir='', config_name='', data_dir='data/glue/WNLI', device=device(type='cpu'), do_eval=True, do_lower_case=False, do_train=True, eval_all_checkpoints=False, evaluate_during_training=False, fp16=False, fp16_opt_level='O1', gradient_accumulation_steps=1, learning_rate=2e-05, local_rank=-1, logging_steps=500, max_grad_norm=1.0, max_seq_length=128, max_steps=-1, model_name_or_path='model/roberta_token_discrimination_lr_e4', model_type='roberta', n_gpu=0, no_cuda=False, num_train_epochs=3.0, output_dir='run', output_mode='classification', overwrite_cache=False, overwrite_output_dir=True, per_gpu_eval_batch_size=64, per_gpu_train_batch_size=64, save_steps=500, seed=42, server_ip='', server_port='', task_name='wnli', tokenizer_name='', warmup_steps=0, weight_decay=0.0)\n",
            "05/15/2020 02:23:34 - INFO - __main__ -   Loading features from cached file data/glue/WNLI/cached_train_roberta_token_discrimination_lr_e4_128_wnli\n",
            "05/15/2020 02:23:35 - INFO - __main__ -   ***** Running training *****\n",
            "05/15/2020 02:23:35 - INFO - __main__ -     Num examples = 635\n",
            "05/15/2020 02:23:35 - INFO - __main__ -     Num Epochs = 3\n",
            "05/15/2020 02:23:35 - INFO - __main__ -     Instantaneous batch size per GPU = 64\n",
            "05/15/2020 02:23:35 - INFO - __main__ -     Total train batch size (w. parallel, distributed & accumulation) = 64\n",
            "05/15/2020 02:23:35 - INFO - __main__ -     Gradient Accumulation steps = 1\n",
            "05/15/2020 02:23:35 - INFO - __main__ -     Total optimization steps = 30\n",
            "05/15/2020 02:23:35 - INFO - __main__ -     Continuing training from checkpoint, will skip to saved global_step\n",
            "05/15/2020 02:23:35 - INFO - __main__ -     Continuing training from epoch 0\n",
            "05/15/2020 02:23:35 - INFO - __main__ -     Continuing training from global step 0\n",
            "05/15/2020 02:23:35 - INFO - __main__ -     Will skip the first 0 steps in the first epoch\n",
            "Epoch:   0% 0/3 [00:00<?, ?it/s]\n",
            "Iteration:   0% 0/10 [00:00<?, ?it/s]\u001b[A/pytorch/torch/csrc/utils/python_arg_parser.cpp:756: UserWarning: This overload of add_ is deprecated:\n",
            "\tadd_(Number alpha, Tensor other)\n",
            "Consider using one of the following signatures instead:\n",
            "\tadd_(Tensor other, *, Number alpha)\n",
            "\n",
            "Iteration:  10% 1/10 [01:18<11:47, 78.63s/it]\u001b[A\n",
            "Iteration:  20% 2/10 [02:33<10:19, 77.46s/it]\u001b[A\n",
            "Iteration:  30% 3/10 [03:47<08:54, 76.34s/it]\u001b[A\n",
            "Iteration:  40% 4/10 [05:00<07:33, 75.53s/it]\u001b[A\n",
            "Iteration:  50% 5/10 [06:14<06:14, 74.96s/it]\u001b[A\n",
            "Iteration:  60% 6/10 [07:28<04:58, 74.64s/it]\u001b[A\n",
            "Iteration:  70% 7/10 [08:41<03:42, 74.31s/it]\u001b[A\n",
            "Iteration:  80% 8/10 [09:55<02:28, 74.16s/it]\u001b[A\n",
            "Iteration:  90% 9/10 [11:09<01:14, 74.09s/it]\u001b[A\n",
            "Iteration: 100% 10/10 [12:17<00:00, 73.76s/it]\n",
            "Epoch:  33% 1/3 [12:17<24:35, 737.60s/it]\n",
            "Iteration:   0% 0/10 [00:00<?, ?it/s]\u001b[A\n",
            "Iteration:  10% 1/10 [01:13<11:02, 73.63s/it]\u001b[A\n",
            "Iteration:  20% 2/10 [02:27<09:48, 73.61s/it]\u001b[A\n",
            "Iteration:  30% 3/10 [03:40<08:34, 73.54s/it]\u001b[A\n",
            "Iteration:  40% 4/10 [04:54<07:21, 73.57s/it]\u001b[A\n",
            "Iteration:  50% 5/10 [06:07<06:07, 73.54s/it]\u001b[A\n",
            "Iteration:  60% 6/10 [07:21<04:54, 73.51s/it]\u001b[A\n",
            "Iteration:  70% 7/10 [08:34<03:40, 73.46s/it]\u001b[A\n",
            "Iteration:  80% 8/10 [09:48<02:27, 73.51s/it]\u001b[A\n",
            "Iteration:  90% 9/10 [11:01<01:13, 73.47s/it]\u001b[A\n",
            "Iteration: 100% 10/10 [12:09<00:00, 72.93s/it]\n",
            "Epoch:  67% 2/3 [24:26<12:15, 735.12s/it]\n",
            "Iteration:   0% 0/10 [00:00<?, ?it/s]\u001b[A\n",
            "Iteration:  10% 1/10 [01:13<11:00, 73.42s/it]\u001b[A\n",
            "Iteration:  20% 2/10 [02:27<09:49, 73.69s/it]\u001b[A\n",
            "Iteration:  30% 3/10 [03:41<08:35, 73.68s/it]\u001b[A\n",
            "Iteration:  40% 4/10 [04:55<07:21, 73.66s/it]\u001b[A\n",
            "Iteration:  50% 5/10 [06:08<06:08, 73.62s/it]\u001b[A\n",
            "Iteration:  60% 6/10 [07:22<04:54, 73.64s/it]\u001b[A\n",
            "Iteration:  70% 7/10 [08:36<03:41, 73.69s/it]\u001b[A\n",
            "Iteration:  80% 8/10 [09:49<02:27, 73.69s/it]\u001b[A\n",
            "Iteration:  90% 9/10 [11:03<01:13, 73.72s/it]\u001b[A\n",
            "Iteration: 100% 10/10 [12:11<00:00, 73.18s/it]\n",
            "Epoch: 100% 3/3 [36:38<00:00, 732.92s/it]\n",
            "05/15/2020 03:00:14 - INFO - __main__ -    global_step = 30, average loss = 0.7009947240352631\n",
            "05/15/2020 03:00:14 - INFO - __main__ -   Saving model checkpoint to run\n",
            "05/15/2020 03:00:14 - INFO - transformers.configuration_utils -   Configuration saved in run/config.json\n",
            "05/15/2020 03:00:16 - INFO - transformers.modeling_utils -   Model weights saved in run/pytorch_model.bin\n",
            "05/15/2020 03:00:16 - INFO - transformers.configuration_utils -   loading configuration file run/config.json\n",
            "05/15/2020 03:00:16 - INFO - transformers.configuration_utils -   Model config RobertaConfig {\n",
            "  \"_num_labels\": 2,\n",
            "  \"architectures\": [\n",
            "    \"RobertaForSequenceClassification\"\n",
            "  ],\n",
            "  \"attention_probs_dropout_prob\": 0.1,\n",
            "  \"bad_words_ids\": null,\n",
            "  \"bos_token_id\": 0,\n",
            "  \"decoder_start_token_id\": null,\n",
            "  \"do_sample\": false,\n",
            "  \"early_stopping\": false,\n",
            "  \"eos_token_id\": 2,\n",
            "  \"finetuning_task\": \"wnli\",\n",
            "  \"hidden_act\": \"gelu\",\n",
            "  \"hidden_dropout_prob\": 0.1,\n",
            "  \"hidden_size\": 768,\n",
            "  \"id2label\": {\n",
            "    \"0\": \"LABEL_0\",\n",
            "    \"1\": \"LABEL_1\"\n",
            "  },\n",
            "  \"initializer_range\": 0.02,\n",
            "  \"intermediate_size\": 3072,\n",
            "  \"is_decoder\": false,\n",
            "  \"is_encoder_decoder\": false,\n",
            "  \"label2id\": {\n",
            "    \"LABEL_0\": 0,\n",
            "    \"LABEL_1\": 1\n",
            "  },\n",
            "  \"layer_norm_eps\": 1e-05,\n",
            "  \"length_penalty\": 1.0,\n",
            "  \"max_length\": 20,\n",
            "  \"max_position_embeddings\": 514,\n",
            "  \"min_length\": 0,\n",
            "  \"model_type\": \"roberta\",\n",
            "  \"no_repeat_ngram_size\": 0,\n",
            "  \"num_attention_heads\": 12,\n",
            "  \"num_beams\": 1,\n",
            "  \"num_hidden_layers\": 12,\n",
            "  \"num_return_sequences\": 1,\n",
            "  \"output_attentions\": false,\n",
            "  \"output_hidden_states\": false,\n",
            "  \"output_past\": true,\n",
            "  \"pad_token_id\": 1,\n",
            "  \"prefix\": null,\n",
            "  \"pruned_heads\": {},\n",
            "  \"repetition_penalty\": 1.0,\n",
            "  \"task_specific_params\": null,\n",
            "  \"temperature\": 1.0,\n",
            "  \"top_k\": 50,\n",
            "  \"top_p\": 1.0,\n",
            "  \"torchscript\": false,\n",
            "  \"type_vocab_size\": 1,\n",
            "  \"use_bfloat16\": false,\n",
            "  \"vocab_size\": 50265\n",
            "}\n",
            "\n",
            "05/15/2020 03:00:16 - INFO - transformers.modeling_utils -   loading weights file run/pytorch_model.bin\n",
            "05/15/2020 03:00:21 - INFO - transformers.configuration_utils -   loading configuration file run/config.json\n",
            "05/15/2020 03:00:21 - INFO - transformers.configuration_utils -   Model config RobertaConfig {\n",
            "  \"_num_labels\": 2,\n",
            "  \"architectures\": [\n",
            "    \"RobertaForSequenceClassification\"\n",
            "  ],\n",
            "  \"attention_probs_dropout_prob\": 0.1,\n",
            "  \"bad_words_ids\": null,\n",
            "  \"bos_token_id\": 0,\n",
            "  \"decoder_start_token_id\": null,\n",
            "  \"do_sample\": false,\n",
            "  \"early_stopping\": false,\n",
            "  \"eos_token_id\": 2,\n",
            "  \"finetuning_task\": \"wnli\",\n",
            "  \"hidden_act\": \"gelu\",\n",
            "  \"hidden_dropout_prob\": 0.1,\n",
            "  \"hidden_size\": 768,\n",
            "  \"id2label\": {\n",
            "    \"0\": \"LABEL_0\",\n",
            "    \"1\": \"LABEL_1\"\n",
            "  },\n",
            "  \"initializer_range\": 0.02,\n",
            "  \"intermediate_size\": 3072,\n",
            "  \"is_decoder\": false,\n",
            "  \"is_encoder_decoder\": false,\n",
            "  \"label2id\": {\n",
            "    \"LABEL_0\": 0,\n",
            "    \"LABEL_1\": 1\n",
            "  },\n",
            "  \"layer_norm_eps\": 1e-05,\n",
            "  \"length_penalty\": 1.0,\n",
            "  \"max_length\": 20,\n",
            "  \"max_position_embeddings\": 514,\n",
            "  \"min_length\": 0,\n",
            "  \"model_type\": \"roberta\",\n",
            "  \"no_repeat_ngram_size\": 0,\n",
            "  \"num_attention_heads\": 12,\n",
            "  \"num_beams\": 1,\n",
            "  \"num_hidden_layers\": 12,\n",
            "  \"num_return_sequences\": 1,\n",
            "  \"output_attentions\": false,\n",
            "  \"output_hidden_states\": false,\n",
            "  \"output_past\": true,\n",
            "  \"pad_token_id\": 1,\n",
            "  \"prefix\": null,\n",
            "  \"pruned_heads\": {},\n",
            "  \"repetition_penalty\": 1.0,\n",
            "  \"task_specific_params\": null,\n",
            "  \"temperature\": 1.0,\n",
            "  \"top_k\": 50,\n",
            "  \"top_p\": 1.0,\n",
            "  \"torchscript\": false,\n",
            "  \"type_vocab_size\": 1,\n",
            "  \"use_bfloat16\": false,\n",
            "  \"vocab_size\": 50265\n",
            "}\n",
            "\n",
            "05/15/2020 03:00:21 - INFO - transformers.tokenization_utils -   Model name 'run' not found in model shortcut name list (roberta-base, roberta-large, roberta-large-mnli, distilroberta-base, roberta-base-openai-detector, roberta-large-openai-detector). Assuming 'run' is a path, a model identifier, or url to a directory containing tokenizer files.\n",
            "05/15/2020 03:00:21 - INFO - transformers.tokenization_utils -   Didn't find file run/added_tokens.json. We won't load it.\n",
            "05/15/2020 03:00:21 - INFO - transformers.tokenization_utils -   loading file run/vocab.json\n",
            "05/15/2020 03:00:21 - INFO - transformers.tokenization_utils -   loading file run/merges.txt\n",
            "05/15/2020 03:00:21 - INFO - transformers.tokenization_utils -   loading file None\n",
            "05/15/2020 03:00:21 - INFO - transformers.tokenization_utils -   loading file run/special_tokens_map.json\n",
            "05/15/2020 03:00:21 - INFO - transformers.tokenization_utils -   loading file run/tokenizer_config.json\n",
            "05/15/2020 03:00:21 - INFO - transformers.configuration_utils -   loading configuration file run/config.json\n",
            "05/15/2020 03:00:21 - INFO - transformers.configuration_utils -   Model config RobertaConfig {\n",
            "  \"_num_labels\": 2,\n",
            "  \"architectures\": [\n",
            "    \"RobertaForSequenceClassification\"\n",
            "  ],\n",
            "  \"attention_probs_dropout_prob\": 0.1,\n",
            "  \"bad_words_ids\": null,\n",
            "  \"bos_token_id\": 0,\n",
            "  \"decoder_start_token_id\": null,\n",
            "  \"do_sample\": false,\n",
            "  \"early_stopping\": false,\n",
            "  \"eos_token_id\": 2,\n",
            "  \"finetuning_task\": \"wnli\",\n",
            "  \"hidden_act\": \"gelu\",\n",
            "  \"hidden_dropout_prob\": 0.1,\n",
            "  \"hidden_size\": 768,\n",
            "  \"id2label\": {\n",
            "    \"0\": \"LABEL_0\",\n",
            "    \"1\": \"LABEL_1\"\n",
            "  },\n",
            "  \"initializer_range\": 0.02,\n",
            "  \"intermediate_size\": 3072,\n",
            "  \"is_decoder\": false,\n",
            "  \"is_encoder_decoder\": false,\n",
            "  \"label2id\": {\n",
            "    \"LABEL_0\": 0,\n",
            "    \"LABEL_1\": 1\n",
            "  },\n",
            "  \"layer_norm_eps\": 1e-05,\n",
            "  \"length_penalty\": 1.0,\n",
            "  \"max_length\": 20,\n",
            "  \"max_position_embeddings\": 514,\n",
            "  \"min_length\": 0,\n",
            "  \"model_type\": \"roberta\",\n",
            "  \"no_repeat_ngram_size\": 0,\n",
            "  \"num_attention_heads\": 12,\n",
            "  \"num_beams\": 1,\n",
            "  \"num_hidden_layers\": 12,\n",
            "  \"num_return_sequences\": 1,\n",
            "  \"output_attentions\": false,\n",
            "  \"output_hidden_states\": false,\n",
            "  \"output_past\": true,\n",
            "  \"pad_token_id\": 1,\n",
            "  \"prefix\": null,\n",
            "  \"pruned_heads\": {},\n",
            "  \"repetition_penalty\": 1.0,\n",
            "  \"task_specific_params\": null,\n",
            "  \"temperature\": 1.0,\n",
            "  \"top_k\": 50,\n",
            "  \"top_p\": 1.0,\n",
            "  \"torchscript\": false,\n",
            "  \"type_vocab_size\": 1,\n",
            "  \"use_bfloat16\": false,\n",
            "  \"vocab_size\": 50265\n",
            "}\n",
            "\n",
            "05/15/2020 03:00:21 - INFO - transformers.tokenization_utils -   Model name 'run' not found in model shortcut name list (roberta-base, roberta-large, roberta-large-mnli, distilroberta-base, roberta-base-openai-detector, roberta-large-openai-detector). Assuming 'run' is a path, a model identifier, or url to a directory containing tokenizer files.\n",
            "05/15/2020 03:00:21 - INFO - transformers.tokenization_utils -   Didn't find file run/added_tokens.json. We won't load it.\n",
            "05/15/2020 03:00:21 - INFO - transformers.tokenization_utils -   loading file run/vocab.json\n",
            "05/15/2020 03:00:21 - INFO - transformers.tokenization_utils -   loading file run/merges.txt\n",
            "05/15/2020 03:00:21 - INFO - transformers.tokenization_utils -   loading file None\n",
            "05/15/2020 03:00:21 - INFO - transformers.tokenization_utils -   loading file run/special_tokens_map.json\n",
            "05/15/2020 03:00:21 - INFO - transformers.tokenization_utils -   loading file run/tokenizer_config.json\n",
            "05/15/2020 03:00:21 - INFO - __main__ -   Evaluate the following checkpoints: ['run']\n",
            "05/15/2020 03:00:21 - INFO - transformers.configuration_utils -   loading configuration file run/config.json\n",
            "05/15/2020 03:00:21 - INFO - transformers.configuration_utils -   Model config RobertaConfig {\n",
            "  \"_num_labels\": 2,\n",
            "  \"architectures\": [\n",
            "    \"RobertaForSequenceClassification\"\n",
            "  ],\n",
            "  \"attention_probs_dropout_prob\": 0.1,\n",
            "  \"bad_words_ids\": null,\n",
            "  \"bos_token_id\": 0,\n",
            "  \"decoder_start_token_id\": null,\n",
            "  \"do_sample\": false,\n",
            "  \"early_stopping\": false,\n",
            "  \"eos_token_id\": 2,\n",
            "  \"finetuning_task\": \"wnli\",\n",
            "  \"hidden_act\": \"gelu\",\n",
            "  \"hidden_dropout_prob\": 0.1,\n",
            "  \"hidden_size\": 768,\n",
            "  \"id2label\": {\n",
            "    \"0\": \"LABEL_0\",\n",
            "    \"1\": \"LABEL_1\"\n",
            "  },\n",
            "  \"initializer_range\": 0.02,\n",
            "  \"intermediate_size\": 3072,\n",
            "  \"is_decoder\": false,\n",
            "  \"is_encoder_decoder\": false,\n",
            "  \"label2id\": {\n",
            "    \"LABEL_0\": 0,\n",
            "    \"LABEL_1\": 1\n",
            "  },\n",
            "  \"layer_norm_eps\": 1e-05,\n",
            "  \"length_penalty\": 1.0,\n",
            "  \"max_length\": 20,\n",
            "  \"max_position_embeddings\": 514,\n",
            "  \"min_length\": 0,\n",
            "  \"model_type\": \"roberta\",\n",
            "  \"no_repeat_ngram_size\": 0,\n",
            "  \"num_attention_heads\": 12,\n",
            "  \"num_beams\": 1,\n",
            "  \"num_hidden_layers\": 12,\n",
            "  \"num_return_sequences\": 1,\n",
            "  \"output_attentions\": false,\n",
            "  \"output_hidden_states\": false,\n",
            "  \"output_past\": true,\n",
            "  \"pad_token_id\": 1,\n",
            "  \"prefix\": null,\n",
            "  \"pruned_heads\": {},\n",
            "  \"repetition_penalty\": 1.0,\n",
            "  \"task_specific_params\": null,\n",
            "  \"temperature\": 1.0,\n",
            "  \"top_k\": 50,\n",
            "  \"top_p\": 1.0,\n",
            "  \"torchscript\": false,\n",
            "  \"type_vocab_size\": 1,\n",
            "  \"use_bfloat16\": false,\n",
            "  \"vocab_size\": 50265\n",
            "}\n",
            "\n",
            "05/15/2020 03:00:21 - INFO - transformers.modeling_utils -   loading weights file run/pytorch_model.bin\n",
            "05/15/2020 03:00:27 - INFO - __main__ -   Creating features from dataset file at data/glue/WNLI\n",
            "05/15/2020 03:00:27 - INFO - transformers.data.processors.glue -   Writing example 0/71\n",
            "05/15/2020 03:00:27 - INFO - transformers.data.processors.glue -   *** Example ***\n",
            "05/15/2020 03:00:27 - INFO - transformers.data.processors.glue -   guid: dev-0\n",
            "05/15/2020 03:00:27 - INFO - transformers.data.processors.glue -   input_ids: 0 20 15160 16 3741 29519 19 2549 4 85 34 7 28 17317 4 2 2 20 2549 34 7 28 17317 4 2 1 1 1 1 1 1 1 1 1 1 1 1 1 1 1 1 1 1 1 1 1 1 1 1 1 1 1 1 1 1 1 1 1 1 1 1 1 1 1 1 1 1 1 1 1 1 1 1 1 1 1 1 1 1 1 1 1 1 1 1 1 1 1 1 1 1 1 1 1 1 1 1 1 1 1 1 1 1 1 1 1 1 1 1 1 1 1 1 1 1 1 1 1 1 1 1 1 1 1 1 1 1 1\n",
            "05/15/2020 03:00:27 - INFO - transformers.data.processors.glue -   attention_mask: 1 1 1 1 1 1 1 1 1 1 1 1 1 1 1 1 1 1 1 1 1 1 1 1 1 0 0 0 0 0 0 0 0 0 0 0 0 0 0 0 0 0 0 0 0 0 0 0 0 0 0 0 0 0 0 0 0 0 0 0 0 0 0 0 0 0 0 0 0 0 0 0 0 0 0 0 0 0 0 0 0 0 0 0 0 0 0 0 0 0 0 0 0 0 0 0 0 0 0 0 0 0 0 0 0 0 0 0 0 0 0 0 0 0 0 0 0 0 0 0 0 0 0 0 0 0 0 0\n",
            "05/15/2020 03:00:27 - INFO - transformers.data.processors.glue -   token_type_ids: 0 0 0 0 0 0 0 0 0 0 0 0 0 0 0 0 0 0 0 0 0 0 0 0 0 0 0 0 0 0 0 0 0 0 0 0 0 0 0 0 0 0 0 0 0 0 0 0 0 0 0 0 0 0 0 0 0 0 0 0 0 0 0 0 0 0 0 0 0 0 0 0 0 0 0 0 0 0 0 0 0 0 0 0 0 0 0 0 0 0 0 0 0 0 0 0 0 0 0 0 0 0 0 0 0 0 0 0 0 0 0 0 0 0 0 0 0 0 0 0 0 0 0 0 0 0 0 0\n",
            "05/15/2020 03:00:27 - INFO - transformers.data.processors.glue -   label: 0 (id = 0)\n",
            "05/15/2020 03:00:27 - INFO - transformers.data.processors.glue -   *** Example ***\n",
            "05/15/2020 03:00:27 - INFO - transformers.data.processors.glue -   guid: dev-1\n",
            "05/15/2020 03:00:27 - INFO - transformers.data.processors.glue -   input_ids: 0 7343 6536 15 6470 18 1883 53 79 222 45 1948 4 2 2 6470 222 45 1948 4 2 1 1 1 1 1 1 1 1 1 1 1 1 1 1 1 1 1 1 1 1 1 1 1 1 1 1 1 1 1 1 1 1 1 1 1 1 1 1 1 1 1 1 1 1 1 1 1 1 1 1 1 1 1 1 1 1 1 1 1 1 1 1 1 1 1 1 1 1 1 1 1 1 1 1 1 1 1 1 1 1 1 1 1 1 1 1 1 1 1 1 1 1 1 1 1 1 1 1 1 1 1 1 1 1 1 1 1\n",
            "05/15/2020 03:00:27 - INFO - transformers.data.processors.glue -   attention_mask: 1 1 1 1 1 1 1 1 1 1 1 1 1 1 1 1 1 1 1 1 1 0 0 0 0 0 0 0 0 0 0 0 0 0 0 0 0 0 0 0 0 0 0 0 0 0 0 0 0 0 0 0 0 0 0 0 0 0 0 0 0 0 0 0 0 0 0 0 0 0 0 0 0 0 0 0 0 0 0 0 0 0 0 0 0 0 0 0 0 0 0 0 0 0 0 0 0 0 0 0 0 0 0 0 0 0 0 0 0 0 0 0 0 0 0 0 0 0 0 0 0 0 0 0 0 0 0 0\n",
            "05/15/2020 03:00:27 - INFO - transformers.data.processors.glue -   token_type_ids: 0 0 0 0 0 0 0 0 0 0 0 0 0 0 0 0 0 0 0 0 0 0 0 0 0 0 0 0 0 0 0 0 0 0 0 0 0 0 0 0 0 0 0 0 0 0 0 0 0 0 0 0 0 0 0 0 0 0 0 0 0 0 0 0 0 0 0 0 0 0 0 0 0 0 0 0 0 0 0 0 0 0 0 0 0 0 0 0 0 0 0 0 0 0 0 0 0 0 0 0 0 0 0 0 0 0 0 0 0 0 0 0 0 0 0 0 0 0 0 0 0 0 0 0 0 0 0 0\n",
            "05/15/2020 03:00:27 - INFO - transformers.data.processors.glue -   label: 1 (id = 1)\n",
            "05/15/2020 03:00:27 - INFO - transformers.data.processors.glue -   *** Example ***\n",
            "05/15/2020 03:00:27 - INFO - transformers.data.processors.glue -   guid: dev-2\n",
            "05/15/2020 03:00:27 - INFO - transformers.data.processors.glue -   input_ids: 0 10472 399 75 120 5800 19 15282 6 54 56 847 69 160 6 142 79 2294 8 11590 7 2724 4 2 2 15282 2294 8 11590 7 2724 4 2 1 1 1 1 1 1 1 1 1 1 1 1 1 1 1 1 1 1 1 1 1 1 1 1 1 1 1 1 1 1 1 1 1 1 1 1 1 1 1 1 1 1 1 1 1 1 1 1 1 1 1 1 1 1 1 1 1 1 1 1 1 1 1 1 1 1 1 1 1 1 1 1 1 1 1 1 1 1 1 1 1 1 1 1 1 1 1 1 1 1 1 1 1 1 1\n",
            "05/15/2020 03:00:27 - INFO - transformers.data.processors.glue -   attention_mask: 1 1 1 1 1 1 1 1 1 1 1 1 1 1 1 1 1 1 1 1 1 1 1 1 1 1 1 1 1 1 1 1 1 0 0 0 0 0 0 0 0 0 0 0 0 0 0 0 0 0 0 0 0 0 0 0 0 0 0 0 0 0 0 0 0 0 0 0 0 0 0 0 0 0 0 0 0 0 0 0 0 0 0 0 0 0 0 0 0 0 0 0 0 0 0 0 0 0 0 0 0 0 0 0 0 0 0 0 0 0 0 0 0 0 0 0 0 0 0 0 0 0 0 0 0 0 0 0\n",
            "05/15/2020 03:00:27 - INFO - transformers.data.processors.glue -   token_type_ids: 0 0 0 0 0 0 0 0 0 0 0 0 0 0 0 0 0 0 0 0 0 0 0 0 0 0 0 0 0 0 0 0 0 0 0 0 0 0 0 0 0 0 0 0 0 0 0 0 0 0 0 0 0 0 0 0 0 0 0 0 0 0 0 0 0 0 0 0 0 0 0 0 0 0 0 0 0 0 0 0 0 0 0 0 0 0 0 0 0 0 0 0 0 0 0 0 0 0 0 0 0 0 0 0 0 0 0 0 0 0 0 0 0 0 0 0 0 0 0 0 0 0 0 0 0 0 0 0\n",
            "05/15/2020 03:00:27 - INFO - transformers.data.processors.glue -   label: 0 (id = 0)\n",
            "05/15/2020 03:00:27 - INFO - transformers.data.processors.glue -   *** Example ***\n",
            "05/15/2020 03:00:27 - INFO - transformers.data.processors.glue -   guid: dev-3\n",
            "05/15/2020 03:00:27 - INFO - transformers.data.processors.glue -   input_ids: 0 440 65 9447 622 7 28 5074 8 20100 4 125 10 92 892 31 5 589 9 4222 19902 1655 5839 10648 14 14 18 2230 141 24 817 201 619 4 2 2 280 18 2230 141 622 817 201 619 4 2 1 1 1 1 1 1 1 1 1 1 1 1 1 1 1 1 1 1 1 1 1 1 1 1 1 1 1 1 1 1 1 1 1 1 1 1 1 1 1 1 1 1 1 1 1 1 1 1 1 1 1 1 1 1 1 1 1 1 1 1 1 1 1 1 1 1 1 1 1 1 1 1 1 1 1 1 1 1 1 1 1 1\n",
            "05/15/2020 03:00:27 - INFO - transformers.data.processors.glue -   attention_mask: 1 1 1 1 1 1 1 1 1 1 1 1 1 1 1 1 1 1 1 1 1 1 1 1 1 1 1 1 1 1 1 1 1 1 1 1 1 1 1 1 1 1 1 1 1 1 0 0 0 0 0 0 0 0 0 0 0 0 0 0 0 0 0 0 0 0 0 0 0 0 0 0 0 0 0 0 0 0 0 0 0 0 0 0 0 0 0 0 0 0 0 0 0 0 0 0 0 0 0 0 0 0 0 0 0 0 0 0 0 0 0 0 0 0 0 0 0 0 0 0 0 0 0 0 0 0 0 0\n",
            "05/15/2020 03:00:27 - INFO - transformers.data.processors.glue -   token_type_ids: 0 0 0 0 0 0 0 0 0 0 0 0 0 0 0 0 0 0 0 0 0 0 0 0 0 0 0 0 0 0 0 0 0 0 0 0 0 0 0 0 0 0 0 0 0 0 0 0 0 0 0 0 0 0 0 0 0 0 0 0 0 0 0 0 0 0 0 0 0 0 0 0 0 0 0 0 0 0 0 0 0 0 0 0 0 0 0 0 0 0 0 0 0 0 0 0 0 0 0 0 0 0 0 0 0 0 0 0 0 0 0 0 0 0 0 0 0 0 0 0 0 0 0 0 0 0 0 0\n",
            "05/15/2020 03:00:27 - INFO - transformers.data.processors.glue -   label: 1 (id = 1)\n",
            "05/15/2020 03:00:27 - INFO - transformers.data.processors.glue -   *** Example ***\n",
            "05/15/2020 03:00:27 - INFO - transformers.data.processors.glue -   guid: dev-4\n",
            "05/15/2020 03:00:27 - INFO - transformers.data.processors.glue -   input_ids: 0 20 313 1705 75 5258 39 979 142 37 21 98 2016 4 2 2 20 979 21 98 2016 4 2 1 1 1 1 1 1 1 1 1 1 1 1 1 1 1 1 1 1 1 1 1 1 1 1 1 1 1 1 1 1 1 1 1 1 1 1 1 1 1 1 1 1 1 1 1 1 1 1 1 1 1 1 1 1 1 1 1 1 1 1 1 1 1 1 1 1 1 1 1 1 1 1 1 1 1 1 1 1 1 1 1 1 1 1 1 1 1 1 1 1 1 1 1 1 1 1 1 1 1 1 1 1 1 1 1\n",
            "05/15/2020 03:00:27 - INFO - transformers.data.processors.glue -   attention_mask: 1 1 1 1 1 1 1 1 1 1 1 1 1 1 1 1 1 1 1 1 1 1 1 0 0 0 0 0 0 0 0 0 0 0 0 0 0 0 0 0 0 0 0 0 0 0 0 0 0 0 0 0 0 0 0 0 0 0 0 0 0 0 0 0 0 0 0 0 0 0 0 0 0 0 0 0 0 0 0 0 0 0 0 0 0 0 0 0 0 0 0 0 0 0 0 0 0 0 0 0 0 0 0 0 0 0 0 0 0 0 0 0 0 0 0 0 0 0 0 0 0 0 0 0 0 0 0 0\n",
            "05/15/2020 03:00:27 - INFO - transformers.data.processors.glue -   token_type_ids: 0 0 0 0 0 0 0 0 0 0 0 0 0 0 0 0 0 0 0 0 0 0 0 0 0 0 0 0 0 0 0 0 0 0 0 0 0 0 0 0 0 0 0 0 0 0 0 0 0 0 0 0 0 0 0 0 0 0 0 0 0 0 0 0 0 0 0 0 0 0 0 0 0 0 0 0 0 0 0 0 0 0 0 0 0 0 0 0 0 0 0 0 0 0 0 0 0 0 0 0 0 0 0 0 0 0 0 0 0 0 0 0 0 0 0 0 0 0 0 0 0 0 0 0 0 0 0 0\n",
            "05/15/2020 03:00:27 - INFO - transformers.data.processors.glue -   label: 1 (id = 1)\n",
            "05/15/2020 03:00:27 - INFO - __main__ -   Saving features into cached file data/glue/WNLI/cached_dev_roberta_token_discrimination_lr_e4_128_wnli\n",
            "05/15/2020 03:00:27 - INFO - __main__ -   ***** Running evaluation  *****\n",
            "05/15/2020 03:00:27 - INFO - __main__ -     Num examples = 71\n",
            "05/15/2020 03:00:27 - INFO - __main__ -     Batch size = 64\n",
            "Evaluating: 100% 2/2 [00:27<00:00, 13.81s/it]\n",
            "05/15/2020 03:00:55 - INFO - __main__ -   ***** Eval results  *****\n",
            "05/15/2020 03:00:55 - INFO - __main__ -     acc = 0.43661971830985913\n"
          ],
          "name": "stdout"
        }
      ]
    },
    {
      "cell_type": "code",
      "metadata": {
        "id": "GVeUbBYKgGiW",
        "colab_type": "code",
        "colab": {}
      },
      "source": [
        ""
      ],
      "execution_count": 0,
      "outputs": []
    }
  ]
}